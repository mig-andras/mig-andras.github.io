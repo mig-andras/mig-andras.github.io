{
 "cells": [
  {
   "cell_type": "markdown",
   "metadata": {
    "slideshow": {
     "slide_type": "slide"
    }
   },
   "source": [
    "# Szilárd testek sűrűségének mérése"
   ]
  },
  {
   "cell_type": "markdown",
   "metadata": {
    "slideshow": {
     "slide_type": "slide"
    }
   },
   "source": [
    "### Mérés célja:"
   ]
  },
  {
   "cell_type": "markdown",
   "metadata": {
    "slideshow": {
     "slide_type": "fragment"
    }
   },
   "source": [
    "<html>\n",
    "    <body>\n",
    "        <ul>\n",
    "            <li> Tetszőleges formájú, ismeretlen anyagú test sűrűségének megmérése </li>\n",
    "        </ul>    \n",
    "    </body>\n",
    "\n",
    "</html>"
   ]
  },
  {
   "cell_type": "markdown",
   "metadata": {},
   "source": [
    "A mérés során Mohr-Westphal mérleggel vizsgáljuk az ismeretlen térfogatú és sűrűségű testeket.\n",
    "A vízbe merített testet Arkhimédesz-törvénye szerint annál kevesebb súllyal hozhatjuk egyensúlybe, minné"
   ]
  },
  {
   "cell_type": "markdown",
   "metadata": {
    "slideshow": {
     "slide_type": "slide"
    }
   },
   "source": [
    "### Referencia testek"
   ]
  },
  {
   "cell_type": "markdown",
   "metadata": {
    "slideshow": {
     "slide_type": "subslide"
    }
   },
   "source": [
    " <table style=\"width:100%\">\n",
    "  <tr>\n",
    "    <th></th>\n",
    "    <th>a [mm]</th>\n",
    "    <th>b [mm]</th>\n",
    "    <th>c [mm]</th>\n",
    "    <th>h [mm]</th>\n",
    "    <th>d [mm]</th>\n",
    "    <th>m [g]</th>\n",
    "\n",
    "  </tr>\n",
    "  <tr>\n",
    "    <th>Henger</th>\n",
    "    <td>--</td>\n",
    "    <td>--</td>\n",
    "    <td>--</td>\n",
    "    <td>19</td>\n",
    "    <td>13,5</td>\n",
    "    <td>32,15</td>\n",
    "  </tr>\n",
    "  <tr>\n",
    "    <th>1. Hasáb</th>\n",
    "    <td>28,8</td>\n",
    "    <td>16</td>\n",
    "    <td>15,3</td>\n",
    "    <td>--</td>\n",
    "    <td>--</td>\n",
    "    <td>63,55</td>\n",
    "  </tr>\n",
    "  <tr>\n",
    "    <th>2. Hasáb</th>\n",
    "    <td>28,4</td>\n",
    "    <td>16</td>\n",
    "    <td>12,1</td>\n",
    "    <td>--</td>\n",
    "    <td>--</td>\n",
    "    <td>15,5</td>\n",
    "  </tr>\n",
    "</table> "
   ]
  },
  {
   "cell_type": "markdown",
   "metadata": {
    "slideshow": {
     "slide_type": "slide"
    }
   },
   "source": [
    "### Mohr-Westphal érleggel mért testek"
   ]
  },
  {
   "cell_type": "markdown",
   "metadata": {
    "slideshow": {
     "slide_type": "subslide"
    }
   },
   "source": [
    " <table style=\"width:100%\">\n",
    "  <tr>\n",
    "    <th></th>\n",
    "    <th>$\\textbf{m}_{\\textbf{súlyok}}$ [g]</th>\n",
    "    <th>m [g]</th>\n",
    "\n",
    "\n",
    "  </tr>\n",
    "  <tr>\n",
    "    <th>1. Henger</th>\n",
    "    <td>8,27</td>\n",
    "    <td>11,73</td>\n",
    "\n",
    "  </tr>\n",
    "  <tr>\n",
    "    <th>2. Henger</th>\n",
    "    <td>6,15</td>\n",
    "    <td>13,85</td>\n",
    "  </tr>\n",
    "  <tr>\n",
    "    <th>3. Henger</th>\n",
    "    <td>15,05</td>\n",
    "    <td>4,95</td>\n",
    "  </tr>\n",
    "</table> "
   ]
  },
  {
   "cell_type": "markdown",
   "metadata": {
    "slideshow": {
     "slide_type": "subslide"
    }
   },
   "source": [
    " <table style=\"width:100%\">\n",
    "  <tr>\n",
    "    <th></th>\n",
    "    <th>m $[g]$</th>\n",
    "    <th>V $\\left [cm^3\\right ]$</th>\n",
    "    <th>$\\rho$ $ \\left [ \\frac{g}{cm^3}\\right ]$</th>\n",
    "\n",
    "\n",
    "  </tr>\n",
    "  <tr>\n",
    "    <th>1. Henger</th>\n",
    "    <td>11,73</td>\n",
    "    <td>1,5</td>\n",
    "    <td>7,82</td>      \n",
    "  </tr>\n",
    "  <tr>\n",
    "    <th>2. Henger</th>\n",
    "    <td>13,85</td>\n",
    "    <td>11,55</td>\n",
    "    <td>8,94</td>\n",
    "  </tr>\n",
    "  <tr>\n",
    "    <th>3. Henger</th>\n",
    "    <td>4,95</td>\n",
    "    <td>1,78</td>\n",
    "    <td>2,78</td>\n",
    "  </tr>\n",
    "</table> "
   ]
  },
  {
   "cell_type": "markdown",
   "metadata": {
    "slideshow": {
     "slide_type": "slide"
    }
   },
   "source": [
    "### Diszkusszió"
   ]
  },
  {
   "cell_type": "markdown",
   "metadata": {
    "slideshow": {
     "slide_type": "fragment"
    }
   },
   "source": [
    "Láthatjuk, hogy a két méréssel közel azonos eredményeket kaptunk, a hibákbetudhatók a műszerek bizonytalanságának.  Az oldal hosszak megméréseazzal az előnnyel jár, hogy jóval gyorsabb a mérést elvégezni, míg a Mohr-Westphal mérleggel bonyolúltabb alakú testeknek is kiszámíthatjuk a sűrűsé-gét. Bár már korábban használtuk, ezeket az adatokat, megállíthatjuk, hogya megvizsgált kis hengerek rendre vas, réz és aluminium. Ezek sűrűségévelösszevetve láthatjuk, hogy a mérleggel való mérés a relatív hibája 0,5% alattvan, azaz pontos mérésnek tekinthetjük."
   ]
  }
 ],
 "metadata": {
  "celltoolbar": "Slideshow",
  "kernelspec": {
   "display_name": "Python 3",
   "language": "python",
   "name": "python3"
  },
  "language_info": {
   "codemirror_mode": {
    "name": "ipython",
    "version": 3
   },
   "file_extension": ".py",
   "mimetype": "text/x-python",
   "name": "python",
   "nbconvert_exporter": "python",
   "pygments_lexer": "ipython3",
   "version": "3.7.6"
  }
 },
 "nbformat": 4,
 "nbformat_minor": 2
}
